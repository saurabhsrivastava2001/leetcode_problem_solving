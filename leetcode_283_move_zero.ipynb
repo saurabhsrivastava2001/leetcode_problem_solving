{
 "cells": [
  {
   "cell_type": "code",
   "execution_count": 2,
   "id": "51364fd8-ac71-4b3b-acc3-d2dbd3c33e10",
   "metadata": {},
   "outputs": [
    {
     "ename": "SyntaxError",
     "evalue": "invalid syntax (346928621.py, line 4)",
     "output_type": "error",
     "traceback": [
      "\u001b[0;36m  Cell \u001b[0;32mIn [2], line 4\u001b[0;36m\u001b[0m\n\u001b[0;31m    if (nums[i]==0){\u001b[0m\n\u001b[0m                   ^\u001b[0m\n\u001b[0;31mSyntaxError\u001b[0m\u001b[0;31m:\u001b[0m invalid syntax\n"
     ]
    }
   ],
   "source": [
    "class Solution:\n",
    "    def moveZeroes(self, nums: List[int]) -> None:\n",
    "\n",
    "        j = 0\n",
    "        for num in nums:\n",
    "            if num != 0:\n",
    "              nums[j] = num\n",
    "              j += 1\n",
    "\n",
    "        for i in range(j, len(nums)):\n",
    "             nums[i] = 0"
   ]
  },
  {
   "cell_type": "code",
   "execution_count": null,
   "id": "b5e2a897-0cad-4d90-92d2-1032cddc420d",
   "metadata": {},
   "outputs": [],
   "source": []
  }
 ],
 "metadata": {
  "kernelspec": {
   "display_name": "Python 3 (ipykernel)",
   "language": "python",
   "name": "python3"
  },
  "language_info": {
   "codemirror_mode": {
    "name": "ipython",
    "version": 3
   },
   "file_extension": ".py",
   "mimetype": "text/x-python",
   "name": "python",
   "nbconvert_exporter": "python",
   "pygments_lexer": "ipython3",
   "version": "3.10.6"
  }
 },
 "nbformat": 4,
 "nbformat_minor": 5
}
